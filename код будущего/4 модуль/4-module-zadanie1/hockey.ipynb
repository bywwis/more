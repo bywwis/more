{
 "cells": [
  {
   "cell_type": "markdown",
   "metadata": {
    "id": "Crk95F1WU4h-"
   },
   "source": [
    "# Проверочное задание. Операции с данными. Hockey"
   ]
  },
  {
   "cell_type": "code",
   "execution_count": null,
   "metadata": {
    "id": "Ic6hfMzpZvj0"
   },
   "outputs": [],
   "source": [
    "# Импортируй библиотеку pandas\n"
   ]
  },
  {
   "cell_type": "code",
   "execution_count": null,
   "metadata": {
    "id": "UeV1KCQuKLn-"
   },
   "outputs": [],
   "source": [
    "# Библиотеки для построения диаграмм\n",
    "import seaborn as sns\n",
    "import matplotlib.pyplot as plt"
   ]
  },
  {
   "cell_type": "code",
   "execution_count": null,
   "metadata": {
    "colab": {
     "base_uri": "https://localhost:8080/",
     "height": 205
    },
    "id": "rpjTMD-m4YbZ",
    "outputId": "01357711-c0f2-4578-f945-94e13a456e4f"
   },
   "outputs": [],
   "source": [
    "# Загрузи таблицу с данными с веб-страницы по адресу \n",
    "# https://www.espn.com/nhl/statistics/player/_/stat/points/year/2021/seasontype/3\n",
    "# Обрати внимание на значение столбцов в примечаниях под таблицей на сайте  \n",
    "# Используй метод pd.read_html(). Он импортирует все таблицы с веб-страницы как список, \n",
    "# из которого нужно сделать dataframe.\n",
    "# Отобрази первые 5 строк dataframe.\n",
    "\n",
    "#hockey_list = ...\n",
    "#hockey = hockey_list[0] # делаем датафрейм из списка\n"
   ]
  },
  {
   "cell_type": "code",
   "execution_count": null,
   "metadata": {
    "id": "Rl5BIOrtECx9"
   },
   "outputs": [],
   "source": [
    "# Переименуй столбцы, чтобы заголовки были как на сайте\n",
    "# используй .columns = [] \n",
    "# список правильных меток столбцов - \n",
    "col_names=['RK', 'PLAYER', 'TEAM', 'GP', 'G', 'A', 'PTS', '+/-', 'PIM', 'PTS/G', 'SOG', 'PCT', 'GWG', 'PP-G', 'PP-A', 'SH-G', 'SH-A']\n"
   ]
  },
  {
   "cell_type": "code",
   "execution_count": null,
   "metadata": {
    "id": "TEgjmXskDuFH"
   },
   "outputs": [],
   "source": [
    "# Удали все строки с NaN.\n"
   ]
  },
  {
   "cell_type": "code",
   "execution_count": null,
   "metadata": {
    "colab": {
     "base_uri": "https://localhost:8080/",
     "height": 581
    },
    "id": "Ns42fAp2foWs",
    "outputId": "879df55a-b7be-416d-d6d1-6aaf3166096f"
   },
   "outputs": [],
   "source": [
    "# Посмотри на весь фрейм целиком. Обрати внимание на \"мусорные\" строки.\n"
   ]
  },
  {
   "cell_type": "code",
   "execution_count": null,
   "metadata": {
    "id": "5O8KyDl1I3RT"
   },
   "outputs": [],
   "source": [
    "# Придумай логическое условие, по которому можно выбрать все \"мусорные\" строки сразу.\n",
    "# Исключи из фрейма все \"мусорные\" строки.\n",
    "# Подсказка: исключить из датафрейма все строки где ['RK']=='RK' \n"
   ]
  },
  {
   "cell_type": "code",
   "execution_count": null,
   "metadata": {
    "id": "Rhi_wxtjMGPt"
   },
   "outputs": [],
   "source": [
    "# удали колонку 'RK'\n"
   ]
  },
  {
   "cell_type": "code",
   "execution_count": null,
   "metadata": {
    "colab": {
     "base_uri": "https://localhost:8080/"
    },
    "id": "EhgoG5ByOiSI",
    "outputId": "e77b1f4b-d4d0-462f-9a78-adcef6883631"
   },
   "outputs": [],
   "source": [
    "# переиндексируй строки\n"
   ]
  },
  {
   "cell_type": "code",
   "execution_count": null,
   "metadata": {
    "colab": {
     "base_uri": "https://localhost:8080/"
    },
    "id": "yYsEb0EFPbKu",
    "outputId": "a0292b50-3c5c-46d0-caf9-6de5fa923cd8"
   },
   "outputs": [],
   "source": [
    "# Сконвертируй признак 'TEAM' в категориальный тип, остальные - в числовые типы (целые и с плавающей запятой)  \n",
    "# Исправь типы данных. Проверь результат\n"
   ]
  },
  {
   "cell_type": "code",
   "execution_count": null,
   "metadata": {
    "colab": {
     "base_uri": "https://localhost:8080/"
    },
    "id": "4cKYomhkD28T",
    "outputId": "95b0321c-6234-4bcf-a85b-340b10812e57"
   },
   "outputs": [],
   "source": [
    "# Сколько уникальных значений GP в датасете? Выведи результат командой print()\n"
   ]
  },
  {
   "cell_type": "code",
   "execution_count": null,
   "metadata": {
    "colab": {
     "base_uri": "https://localhost:8080/"
    },
    "id": "Vaa5Bo79jn-G",
    "outputId": "cf8803d8-95a1-4498-efde-d1ac86bb9bc4"
   },
   "outputs": [],
   "source": [
    "# Какое число получается, если сложить значения GP, имеющие индексы 9 и 11? \n",
    "# Выведи результат командой print()\n"
   ]
  },
  {
   "cell_type": "code",
   "execution_count": null,
   "metadata": {
    "colab": {
     "base_uri": "https://localhost:8080/",
     "height": 724
    },
    "id": "awvswzMwGDve",
    "outputId": "a393e5ea-d3c6-4649-8682-9e47eeb1a978"
   },
   "outputs": [],
   "source": [
    "#\tВизуализируй корреляционную матрицу. Используй sns.heatmap().\n",
    "# Между какими переменными максимальная положительная корреляция?\n",
    "\n"
   ]
  },
  {
   "cell_type": "markdown",
   "metadata": {
    "id": "6RBGw0tfgt2C"
   },
   "source": [
    "###"
   ]
  }
 ],
 "metadata": {
  "colab": {
   "collapsed_sections": [],
   "name": "hockey.ipynb",
   "provenance": []
  },
  "kernelspec": {
   "display_name": "Python 3",
   "language": "python",
   "name": "python3"
  },
  "language_info": {
   "codemirror_mode": {
    "name": "ipython",
    "version": 3
   },
   "file_extension": ".py",
   "mimetype": "text/x-python",
   "name": "python",
   "nbconvert_exporter": "python",
   "pygments_lexer": "ipython3",
   "version": "3.7.10"
  }
 },
 "nbformat": 4,
 "nbformat_minor": 4
}
